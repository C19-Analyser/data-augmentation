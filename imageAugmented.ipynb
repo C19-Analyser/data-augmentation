{
 "cells": [
  {
   "cell_type": "code",
   "execution_count": 1,
   "metadata": {},
   "outputs": [],
   "source": [
    "# importation de la class datagenerator\n",
    "\n",
    "from tensorflow.keras.preprocessing.image import ImageDataGenerator\n",
    "from skimage import io\n",
    "\n"
   ]
  },
  {
   "cell_type": "code",
   "execution_count": 2,
   "metadata": {},
   "outputs": [],
   "source": [
    "# on instencie notre objet ImageDataGenerator\n",
    "\n",
    "\n",
    "MonPetitGenerateur = ImageDataGenerator(\n",
    "        rotation_range=45,     #Borne de la rotation donc de 0 a 45\n",
    "        width_shift_range=0.2,   #Borne du deplacement sur X\n",
    "        height_shift_range=0.2, #Borne du deplacement sur Y\n",
    "        shear_range=0.9,     #ça je suis pas sur shear = depouiller tondre\n",
    "        zoom_range=0.2, #Borne du zoom qu'on va appliquer a notre image\n",
    "        horizontal_flip=True, #ça c'est pour flip a l'horizontale classico del madrido\n",
    "        fill_mode='constant', cval=125) #fill mode c'est quand l'image se deplace y a des bandes noir là on choisit la couleur etc \n",
    "                                        #try nearest, constant, reflect, wrap"
   ]
  },
  {
   "cell_type": "code",
   "execution_count": 3,
   "metadata": {},
   "outputs": [],
   "source": [
    "x = io.imread('IMAGES/cul.png')  #on charge l'image pepouze\n",
    "# Reshape l'image\n",
    "x = x.reshape((1, ) + x.shape)  # (1, 256, 256, 3)  #[1]veut dire le nbr d'image[2,3]veut dire les dimensions[4]veut dire la couleur je crois 1 gris 3 couleur \n",
    "\n",
    "i = 0\n",
    "for batch in MonPetitGenerateur.flow(x, batch_size=16,  #si j'ai bien compris ça produit 16 images en meme temps \n",
    "                          save_to_dir='test', #fichier de sauvegarde\n",
    "                          save_prefix='aug', #prefix des images\n",
    "                          save_format='png'): #format\n",
    "    i += 1\n",
    "    if i > 20:\n",
    "        break  # otherwise the generator would loop indefinitely  "
   ]
  },
  {
   "cell_type": "code",
   "execution_count": null,
   "metadata": {},
   "outputs": [],
   "source": []
  }
 ],
 "metadata": {
  "kernelspec": {
   "display_name": "Python 3",
   "language": "python",
   "name": "python3"
  },
  "language_info": {
   "codemirror_mode": {
    "name": "ipython",
    "version": 3
   },
   "file_extension": ".py",
   "mimetype": "text/x-python",
   "name": "python",
   "nbconvert_exporter": "python",
   "pygments_lexer": "ipython3",
   "version": "3.7.7"
  }
 },
 "nbformat": 4,
 "nbformat_minor": 4
}
